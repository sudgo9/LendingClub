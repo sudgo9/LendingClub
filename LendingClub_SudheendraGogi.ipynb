{
 "cells": [
  {
   "cell_type": "code",
   "execution_count": 11,
   "id": "99b4698c",
   "metadata": {},
   "outputs": [
    {
     "data": {
      "text/plain": [
       "<AxesSubplot:xlabel='RiskCategory'>"
      ]
     },
     "execution_count": 11,
     "metadata": {},
     "output_type": "execute_result"
    },
    {
     "data": {
      "image/png": "[encoded data removed]",
      "text/plain": [
       "<Figure size 432x288 with 1 Axes>"
      ]
     },
     "metadata": {},
     "output_type": "display_data"
    }
   ],
   "source": [
    "# Program to evaluate the risk associated in lending the loan to a loan applicant using the online data set and provide remonedations\n",
    "#Import the necessary modules to load data to data frames and draw plots\n",
    "import os\n",
    "import seaborn as sns\n",
    "import pandas as pd\n",
    "pd.options.mode.chained_assignment = None  # default='warn'\n",
    "\n",
    "#Read and load the data set to data frame\n",
    "os.chdir('C:\\\\Users\\\\SudheendraGogi\\\\Downloads')\n",
    "df = pd.read_csv('C:\\\\Users\\\\SudheendraGogi\\\\Downloads\\\\loan\\\\loan_upd.csv')\n",
    "\n",
    "#Filter the loan applications that are currently active\n",
    "df2=df.loc[df.loan_status != \"Current\"]\n",
    "\n",
    "#Derive 4 columns to performing binning activity on key driver variables.\n",
    "#Also data has been standardised to populate zero as default value for  mths_since_last_delinq and mths_since_last_delinq\n",
    "df2['DPDCategory']=df2['mths_since_last_delinq'].fillna(0).apply(lambda x : 'DPDShort' if (x>=0.0 and x <=3 ) else ('DPDMedium' if (x >= 4 and x <= 6 ) else ('DPDLong' if (x >=7 and x <= 12 ) else ('DPDVeryLong' if x > 12 else 'TooHigh')) ) )\n",
    "df2['IncomeCategory']=df2['annual_inc'].apply(lambda x : 'LowSal' if (x > 9500 and x <= 18000 ) else ('MediumSal' if (x > 18001 and x <= 50000 ) else ('HighSal' if (x > 50001 and x <= 120000 ) else ('VeryHighSal' if x > 120001 else 'TooHigh')) ) )\n",
    "df2['DelqFreqCategory']=df2['delinq_2yrs'].fillna(0).apply(lambda x : 'DelqShortFrqncy' if (x>=0 and x <=2 ) else ('DelqMediumFrqncy' if (x >= 3 and x <= 5 ) else ('DelqLongFrqncy' if (x >=6 and x <= 9 ) else 'TooHigh')) ) \n",
    "df2['RecoveryCategory']=df2['recoveries'].apply(lambda x : 'LowBal' if (x >= 0 and x <= 1000 ) else ('MediumBal' if (x > 1001 and x <= 3500 ) else ('HighBal' if (x > 3501 and x <= 10000 ) else ('VeryHighBal' if x > 10001 else 'TooHigh')) ) )\n",
    "\n",
    "#Define a function to evaluate the risk category of each loan application. This function will take above 4 derived binned variables and returns the risk classification value as High, Medium or Low\n",
    "#The outcome of this function will be used in conjunction with Home ownership and DTI ratio to further recommend on the percentage amount of loan to be funded.\n",
    "#This recomendation is done as part of manul exercise for now and is called out in the power point slides.\n",
    "\n",
    "def EvalRisk(DPDCategory,IncomeCategory,DelqFreqCategory,RecoveryCategory):\n",
    "    if RecoveryCategory == 'VeryHighBal':\n",
    "        category ='HighRisk'\n",
    "    elif RecoveryCategory == 'HighBal':\n",
    "        if DPDCategory=='DPDShort' and DelqFreqCategory== 'DelqShortFrqncy' and IncomeCategory=='VeryHighSal':\n",
    "            category ='MediumRisk'\n",
    "        else:\n",
    "            category ='HighRisk'            \n",
    "    elif RecoveryCategory == 'MediumBal':\n",
    "        if DPDCategory=='DPDShort' and DelqFreqCategory== 'DelqShortFrqncy' and (IncomeCategory=='VeryHighSal' or IncomeCategory=='HighSal' ):\n",
    "            category ='MediumRisk'\n",
    "        else:\n",
    "            category ='HighRisk'\n",
    "    elif RecoveryCategory == 'LowBal':\n",
    "        if DPDCategory=='DPDShort' and DelqFreqCategory== 'DelqShortFrqncy' and (IncomeCategory=='VeryHighSal' or IncomeCategory=='HighSal' or IncomeCategory=='MediumSal' ):\n",
    "            category ='LowRisk'\n",
    "        else:\n",
    "            category ='MediumRisk'\n",
    "    else:\n",
    "           category ='Unknown'   \n",
    "    return category\n",
    "\n",
    "#Apply lambda function using the custom built evaluate function to assess the applicant risk\n",
    "df2['RiskCategory'] = df2.apply(lambda x: EvalRisk(x['DPDCategory'],x['IncomeCategory'],x['DelqFreqCategory'],x['RecoveryCategory']),axis=1)\n",
    "result = df2.groupby(['RiskCategory']).size() # data must be in 1Dimensional to draw plot\n",
    "# # plot the result to view the percentage of applications falling under various risk categories. \n",
    "sns.barplot(x = result.index, y = result.values,palette ='plasma')\n",
    "\n",
    "\n",
    "\n"
   ]
  },
  {
   "cell_type": "code",
   "execution_count": 92,
   "id": "8da9c325",
   "metadata": {},
   "outputs": [
    {
     "name": "stdout",
     "output_type": "stream",
     "text": [
      "Risk is: Unknown\n"
     ]
    }
   ],
   "source": []
  },
  {
   "cell_type": "code",
   "execution_count": null,
   "id": "6857c831",
   "metadata": {},
   "outputs": [],
   "source": []
  }
 ],
 "metadata": {
  "kernelspec": {
   "display_name": "Python 3 (ipykernel)",
   "language": "python",
   "name": "python3"
  },
  "language_info": {
   "codemirror_mode": {
    "name": "ipython",
    "version": 3
   },
   "file_extension": ".py",
   "mimetype": "text/x-python",
   "name": "python",
   "nbconvert_exporter": "python",
   "pygments_lexer": "ipython3",
   "version": "3.9.7"
  }
 },
 "nbformat": 4,
 "nbformat_minor": 5
}
